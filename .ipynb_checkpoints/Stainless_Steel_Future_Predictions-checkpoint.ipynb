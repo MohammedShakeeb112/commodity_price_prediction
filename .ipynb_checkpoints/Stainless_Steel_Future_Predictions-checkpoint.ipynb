{
 "cells": [
  {
   "cell_type": "code",
   "execution_count": 1,
   "id": "b20d3395",
   "metadata": {},
   "outputs": [],
   "source": [
    "import numpy as np\n",
    "import pandas as pd\n",
    "import matplotlib.pyplot as plt\n",
    "# %matplotlib inline"
   ]
  },
  {
   "cell_type": "code",
   "execution_count": 2,
   "id": "87620fdc",
   "metadata": {},
   "outputs": [
    {
     "data": {
      "text/html": [
       "<div>\n",
       "<style scoped>\n",
       "    .dataframe tbody tr th:only-of-type {\n",
       "        vertical-align: middle;\n",
       "    }\n",
       "\n",
       "    .dataframe tbody tr th {\n",
       "        vertical-align: top;\n",
       "    }\n",
       "\n",
       "    .dataframe thead th {\n",
       "        text-align: right;\n",
       "    }\n",
       "</style>\n",
       "<table border=\"1\" class=\"dataframe\">\n",
       "  <thead>\n",
       "    <tr style=\"text-align: right;\">\n",
       "      <th></th>\n",
       "      <th>Date</th>\n",
       "      <th>StainlessSteelPrice</th>\n",
       "      <th>Steel_Inventory_M_USD</th>\n",
       "      <th>Steel_Orders_M_USD</th>\n",
       "      <th>IronOre_Global_USD</th>\n",
       "      <th>CoalAustralia_Global_USD</th>\n",
       "      <th>Energy_Index</th>\n",
       "      <th>Nickel_Global_USD</th>\n",
       "      <th>Zinc_Global_USD</th>\n",
       "      <th>Freight_Transport_Index</th>\n",
       "      <th>WTI_Crude_Global_USD</th>\n",
       "      <th>Baltic_Dry_Index</th>\n",
       "      <th>BCI_China</th>\n",
       "      <th>BCI_Europe</th>\n",
       "      <th>BCI_US</th>\n",
       "      <th>CLI_China</th>\n",
       "      <th>CLI_Europe</th>\n",
       "      <th>CLI_US</th>\n",
       "      <th>PMI_US_Manufacturing</th>\n",
       "      <th>Copper_Global_USD</th>\n",
       "    </tr>\n",
       "  </thead>\n",
       "  <tbody>\n",
       "    <tr>\n",
       "      <th>0</th>\n",
       "      <td>7/1/2013</td>\n",
       "      <td>0.827352</td>\n",
       "      <td>20575</td>\n",
       "      <td>10568</td>\n",
       "      <td>127.191304</td>\n",
       "      <td>82.222360</td>\n",
       "      <td>227.022942</td>\n",
       "      <td>13750.31522</td>\n",
       "      <td>1837.619565</td>\n",
       "      <td>-0.4</td>\n",
       "      <td>104.545217</td>\n",
       "      <td>1062</td>\n",
       "      <td>98.80018</td>\n",
       "      <td>99.64265</td>\n",
       "      <td>100.1044</td>\n",
       "      <td>101.1423</td>\n",
       "      <td>99.43615</td>\n",
       "      <td>100.6230</td>\n",
       "      <td>50.9</td>\n",
       "      <td>6906.64</td>\n",
       "    </tr>\n",
       "    <tr>\n",
       "      <th>1</th>\n",
       "      <td>8/1/2013</td>\n",
       "      <td>0.760221</td>\n",
       "      <td>20609</td>\n",
       "      <td>10821</td>\n",
       "      <td>137.055000</td>\n",
       "      <td>82.221429</td>\n",
       "      <td>232.234194</td>\n",
       "      <td>14308.26190</td>\n",
       "      <td>1896.392857</td>\n",
       "      <td>0.5</td>\n",
       "      <td>106.546364</td>\n",
       "      <td>1132</td>\n",
       "      <td>99.04874</td>\n",
       "      <td>99.91766</td>\n",
       "      <td>100.3962</td>\n",
       "      <td>101.1938</td>\n",
       "      <td>99.64082</td>\n",
       "      <td>100.6545</td>\n",
       "      <td>55.4</td>\n",
       "      <td>7186.25</td>\n",
       "    </tr>\n",
       "    <tr>\n",
       "      <th>2</th>\n",
       "      <td>9/1/2013</td>\n",
       "      <td>0.784715</td>\n",
       "      <td>20761</td>\n",
       "      <td>10774</td>\n",
       "      <td>134.185714</td>\n",
       "      <td>83.295918</td>\n",
       "      <td>234.335594</td>\n",
       "      <td>13801.39286</td>\n",
       "      <td>1846.880952</td>\n",
       "      <td>0.1</td>\n",
       "      <td>106.313810</td>\n",
       "      <td>2003</td>\n",
       "      <td>99.27196</td>\n",
       "      <td>100.18490</td>\n",
       "      <td>100.5363</td>\n",
       "      <td>101.2066</td>\n",
       "      <td>99.84383</td>\n",
       "      <td>100.6646</td>\n",
       "      <td>55.7</td>\n",
       "      <td>7159.27</td>\n",
       "    </tr>\n",
       "    <tr>\n",
       "      <th>3</th>\n",
       "      <td>10/1/2013</td>\n",
       "      <td>0.769293</td>\n",
       "      <td>20735</td>\n",
       "      <td>11291</td>\n",
       "      <td>132.572727</td>\n",
       "      <td>85.443634</td>\n",
       "      <td>229.393932</td>\n",
       "      <td>14117.65217</td>\n",
       "      <td>1884.836957</td>\n",
       "      <td>-0.1</td>\n",
       "      <td>100.500435</td>\n",
       "      <td>1504</td>\n",
       "      <td>99.40488</td>\n",
       "      <td>100.36330</td>\n",
       "      <td>100.5771</td>\n",
       "      <td>101.1835</td>\n",
       "      <td>100.02300</td>\n",
       "      <td>100.6666</td>\n",
       "      <td>56.2</td>\n",
       "      <td>7203.02</td>\n",
       "    </tr>\n",
       "    <tr>\n",
       "      <th>4</th>\n",
       "      <td>11/1/2013</td>\n",
       "      <td>0.750242</td>\n",
       "      <td>20854</td>\n",
       "      <td>11559</td>\n",
       "      <td>136.323810</td>\n",
       "      <td>88.363265</td>\n",
       "      <td>225.437049</td>\n",
       "      <td>13684.01190</td>\n",
       "      <td>1866.416667</td>\n",
       "      <td>2.1</td>\n",
       "      <td>93.812381</td>\n",
       "      <td>1821</td>\n",
       "      <td>99.36221</td>\n",
       "      <td>100.49830</td>\n",
       "      <td>100.5459</td>\n",
       "      <td>101.1283</td>\n",
       "      <td>100.17150</td>\n",
       "      <td>100.6744</td>\n",
       "      <td>56.4</td>\n",
       "      <td>7070.65</td>\n",
       "    </tr>\n",
       "  </tbody>\n",
       "</table>\n",
       "</div>"
      ],
      "text/plain": [
       "        Date  StainlessSteelPrice  Steel_Inventory_M_USD  Steel_Orders_M_USD  \\\n",
       "0   7/1/2013             0.827352                  20575               10568   \n",
       "1   8/1/2013             0.760221                  20609               10821   \n",
       "2   9/1/2013             0.784715                  20761               10774   \n",
       "3  10/1/2013             0.769293                  20735               11291   \n",
       "4  11/1/2013             0.750242                  20854               11559   \n",
       "\n",
       "   IronOre_Global_USD  CoalAustralia_Global_USD  Energy_Index  \\\n",
       "0          127.191304                 82.222360    227.022942   \n",
       "1          137.055000                 82.221429    232.234194   \n",
       "2          134.185714                 83.295918    234.335594   \n",
       "3          132.572727                 85.443634    229.393932   \n",
       "4          136.323810                 88.363265    225.437049   \n",
       "\n",
       "   Nickel_Global_USD  Zinc_Global_USD  Freight_Transport_Index  \\\n",
       "0        13750.31522      1837.619565                     -0.4   \n",
       "1        14308.26190      1896.392857                      0.5   \n",
       "2        13801.39286      1846.880952                      0.1   \n",
       "3        14117.65217      1884.836957                     -0.1   \n",
       "4        13684.01190      1866.416667                      2.1   \n",
       "\n",
       "   WTI_Crude_Global_USD  Baltic_Dry_Index  BCI_China  BCI_Europe    BCI_US  \\\n",
       "0            104.545217              1062   98.80018    99.64265  100.1044   \n",
       "1            106.546364              1132   99.04874    99.91766  100.3962   \n",
       "2            106.313810              2003   99.27196   100.18490  100.5363   \n",
       "3            100.500435              1504   99.40488   100.36330  100.5771   \n",
       "4             93.812381              1821   99.36221   100.49830  100.5459   \n",
       "\n",
       "   CLI_China  CLI_Europe    CLI_US  PMI_US_Manufacturing  Copper_Global_USD   \n",
       "0   101.1423    99.43615  100.6230                  50.9             6906.64  \n",
       "1   101.1938    99.64082  100.6545                  55.4             7186.25  \n",
       "2   101.2066    99.84383  100.6646                  55.7             7159.27  \n",
       "3   101.1835   100.02300  100.6666                  56.2             7203.02  \n",
       "4   101.1283   100.17150  100.6744                  56.4             7070.65  "
      ]
     },
     "execution_count": 2,
     "metadata": {},
     "output_type": "execute_result"
    }
   ],
   "source": [
    "df = pd.read_csv('Stainless-Steel-Prices-Forecasty-Assignment.csv')\n",
    "df.head()"
   ]
  },
  {
   "cell_type": "code",
   "execution_count": 3,
   "id": "f81c8954",
   "metadata": {},
   "outputs": [
    {
     "data": {
      "text/html": [
       "<div>\n",
       "<style scoped>\n",
       "    .dataframe tbody tr th:only-of-type {\n",
       "        vertical-align: middle;\n",
       "    }\n",
       "\n",
       "    .dataframe tbody tr th {\n",
       "        vertical-align: top;\n",
       "    }\n",
       "\n",
       "    .dataframe thead th {\n",
       "        text-align: right;\n",
       "    }\n",
       "</style>\n",
       "<table border=\"1\" class=\"dataframe\">\n",
       "  <thead>\n",
       "    <tr style=\"text-align: right;\">\n",
       "      <th></th>\n",
       "      <th>Date</th>\n",
       "      <th>StainlessSteelPrice</th>\n",
       "      <th>Steel_Inventory_M_USD</th>\n",
       "      <th>Steel_Orders_M_USD</th>\n",
       "      <th>IronOre_Global_USD</th>\n",
       "      <th>CoalAustralia_Global_USD</th>\n",
       "      <th>Energy_Index</th>\n",
       "      <th>Nickel_Global_USD</th>\n",
       "      <th>Zinc_Global_USD</th>\n",
       "      <th>Freight_Transport_Index</th>\n",
       "      <th>WTI_Crude_Global_USD</th>\n",
       "      <th>Baltic_Dry_Index</th>\n",
       "      <th>BCI_China</th>\n",
       "      <th>BCI_Europe</th>\n",
       "      <th>BCI_US</th>\n",
       "      <th>CLI_China</th>\n",
       "      <th>CLI_Europe</th>\n",
       "      <th>CLI_US</th>\n",
       "      <th>PMI_US_Manufacturing</th>\n",
       "      <th>Copper_Global_USD</th>\n",
       "    </tr>\n",
       "  </thead>\n",
       "  <tbody>\n",
       "    <tr>\n",
       "      <th>79</th>\n",
       "      <td>2/1/2020</td>\n",
       "      <td>0.893123</td>\n",
       "      <td>19753</td>\n",
       "      <td>9914</td>\n",
       "      <td>87.625000</td>\n",
       "      <td>71.050179</td>\n",
       "      <td>110.312331</td>\n",
       "      <td>12715.55000</td>\n",
       "      <td>2113.237500</td>\n",
       "      <td>-0.6</td>\n",
       "      <td>50.601500</td>\n",
       "      <td>535</td>\n",
       "      <td>94.50153</td>\n",
       "      <td>99.15099</td>\n",
       "      <td>98.99674</td>\n",
       "      <td>85.38329</td>\n",
       "      <td>99.33393</td>\n",
       "      <td>99.23477</td>\n",
       "      <td>50.9</td>\n",
       "      <td>5687.75</td>\n",
       "    </tr>\n",
       "    <tr>\n",
       "      <th>80</th>\n",
       "      <td>3/1/2020</td>\n",
       "      <td>0.829167</td>\n",
       "      <td>19945</td>\n",
       "      <td>9072</td>\n",
       "      <td>88.659091</td>\n",
       "      <td>70.204870</td>\n",
       "      <td>73.684533</td>\n",
       "      <td>11846.22727</td>\n",
       "      <td>1903.625000</td>\n",
       "      <td>-0.6</td>\n",
       "      <td>29.877273</td>\n",
       "      <td>626</td>\n",
       "      <td>96.55129</td>\n",
       "      <td>97.81904</td>\n",
       "      <td>98.56776</td>\n",
       "      <td>92.34856</td>\n",
       "      <td>96.87456</td>\n",
       "      <td>97.54372</td>\n",
       "      <td>50.1</td>\n",
       "      <td>5182.63</td>\n",
       "    </tr>\n",
       "    <tr>\n",
       "      <th>81</th>\n",
       "      <td>4/1/2020</td>\n",
       "      <td>0.789704</td>\n",
       "      <td>19824</td>\n",
       "      <td>7800</td>\n",
       "      <td>83.750000</td>\n",
       "      <td>64.620000</td>\n",
       "      <td>52.771306</td>\n",
       "      <td>11804.00950</td>\n",
       "      <td>1903.367000</td>\n",
       "      <td>-7.1</td>\n",
       "      <td>16.807273</td>\n",
       "      <td>635</td>\n",
       "      <td>98.21212</td>\n",
       "      <td>96.24888</td>\n",
       "      <td>98.10213</td>\n",
       "      <td>95.14948</td>\n",
       "      <td>90.34396</td>\n",
       "      <td>92.28025</td>\n",
       "      <td>49.1</td>\n",
       "      <td>5057.97</td>\n",
       "    </tr>\n",
       "    <tr>\n",
       "      <th>82</th>\n",
       "      <td>5/1/2020</td>\n",
       "      <td>0.762035</td>\n",
       "      <td>19441</td>\n",
       "      <td>8908</td>\n",
       "      <td>91.333333</td>\n",
       "      <td>54.148308</td>\n",
       "      <td>66.915249</td>\n",
       "      <td>12179.60526</td>\n",
       "      <td>1975.322632</td>\n",
       "      <td>1.0</td>\n",
       "      <td>28.794762</td>\n",
       "      <td>504</td>\n",
       "      <td>99.01438</td>\n",
       "      <td>95.99664</td>\n",
       "      <td>98.35104</td>\n",
       "      <td>97.71723</td>\n",
       "      <td>93.02601</td>\n",
       "      <td>93.95093</td>\n",
       "      <td>41.5</td>\n",
       "      <td>5239.83</td>\n",
       "    </tr>\n",
       "    <tr>\n",
       "      <th>83</th>\n",
       "      <td>6/1/2020</td>\n",
       "      <td>0.811477</td>\n",
       "      <td>18998</td>\n",
       "      <td>8979</td>\n",
       "      <td>103.340909</td>\n",
       "      <td>55.002760</td>\n",
       "      <td>82.415155</td>\n",
       "      <td>12727.15227</td>\n",
       "      <td>2025.714545</td>\n",
       "      <td>1.3</td>\n",
       "      <td>38.302273</td>\n",
       "      <td>1799</td>\n",
       "      <td>99.29423</td>\n",
       "      <td>96.85281</td>\n",
       "      <td>99.24643</td>\n",
       "      <td>98.10716</td>\n",
       "      <td>96.77950</td>\n",
       "      <td>95.88245</td>\n",
       "      <td>43.1</td>\n",
       "      <td>5754.60</td>\n",
       "    </tr>\n",
       "  </tbody>\n",
       "</table>\n",
       "</div>"
      ],
      "text/plain": [
       "        Date  StainlessSteelPrice  Steel_Inventory_M_USD  Steel_Orders_M_USD  \\\n",
       "79  2/1/2020             0.893123                  19753                9914   \n",
       "80  3/1/2020             0.829167                  19945                9072   \n",
       "81  4/1/2020             0.789704                  19824                7800   \n",
       "82  5/1/2020             0.762035                  19441                8908   \n",
       "83  6/1/2020             0.811477                  18998                8979   \n",
       "\n",
       "    IronOre_Global_USD  CoalAustralia_Global_USD  Energy_Index  \\\n",
       "79           87.625000                 71.050179    110.312331   \n",
       "80           88.659091                 70.204870     73.684533   \n",
       "81           83.750000                 64.620000     52.771306   \n",
       "82           91.333333                 54.148308     66.915249   \n",
       "83          103.340909                 55.002760     82.415155   \n",
       "\n",
       "    Nickel_Global_USD  Zinc_Global_USD  Freight_Transport_Index  \\\n",
       "79        12715.55000      2113.237500                     -0.6   \n",
       "80        11846.22727      1903.625000                     -0.6   \n",
       "81        11804.00950      1903.367000                     -7.1   \n",
       "82        12179.60526      1975.322632                      1.0   \n",
       "83        12727.15227      2025.714545                      1.3   \n",
       "\n",
       "    WTI_Crude_Global_USD  Baltic_Dry_Index  BCI_China  BCI_Europe    BCI_US  \\\n",
       "79             50.601500               535   94.50153    99.15099  98.99674   \n",
       "80             29.877273               626   96.55129    97.81904  98.56776   \n",
       "81             16.807273               635   98.21212    96.24888  98.10213   \n",
       "82             28.794762               504   99.01438    95.99664  98.35104   \n",
       "83             38.302273              1799   99.29423    96.85281  99.24643   \n",
       "\n",
       "    CLI_China  CLI_Europe    CLI_US  PMI_US_Manufacturing  Copper_Global_USD   \n",
       "79   85.38329    99.33393  99.23477                  50.9             5687.75  \n",
       "80   92.34856    96.87456  97.54372                  50.1             5182.63  \n",
       "81   95.14948    90.34396  92.28025                  49.1             5057.97  \n",
       "82   97.71723    93.02601  93.95093                  41.5             5239.83  \n",
       "83   98.10716    96.77950  95.88245                  43.1             5754.60  "
      ]
     },
     "execution_count": 3,
     "metadata": {},
     "output_type": "execute_result"
    }
   ],
   "source": [
    "df.tail()"
   ]
  },
  {
   "cell_type": "code",
   "execution_count": 5,
   "id": "c1f2e4f4",
   "metadata": {},
   "outputs": [
    {
     "data": {
      "text/html": [
       "<div>\n",
       "<style scoped>\n",
       "    .dataframe tbody tr th:only-of-type {\n",
       "        vertical-align: middle;\n",
       "    }\n",
       "\n",
       "    .dataframe tbody tr th {\n",
       "        vertical-align: top;\n",
       "    }\n",
       "\n",
       "    .dataframe thead th {\n",
       "        text-align: right;\n",
       "    }\n",
       "</style>\n",
       "<table border=\"1\" class=\"dataframe\">\n",
       "  <thead>\n",
       "    <tr style=\"text-align: right;\">\n",
       "      <th></th>\n",
       "      <th>Date</th>\n",
       "      <th>StainlessSteelPrice</th>\n",
       "      <th>Steel_Inventory_M_USD</th>\n",
       "      <th>Steel_Orders_M_USD</th>\n",
       "      <th>IronOre_Global_USD</th>\n",
       "      <th>CoalAustralia_Global_USD</th>\n",
       "      <th>Energy_Index</th>\n",
       "      <th>Nickel_Global_USD</th>\n",
       "      <th>Zinc_Global_USD</th>\n",
       "      <th>Freight_Transport_Index</th>\n",
       "      <th>WTI_Crude_Global_USD</th>\n",
       "      <th>Baltic_Dry_Index</th>\n",
       "      <th>BCI_China</th>\n",
       "      <th>BCI_Europe</th>\n",
       "      <th>BCI_US</th>\n",
       "      <th>CLI_China</th>\n",
       "      <th>CLI_Europe</th>\n",
       "      <th>CLI_US</th>\n",
       "      <th>PMI_US_Manufacturing</th>\n",
       "      <th>Copper_Global_USD</th>\n",
       "    </tr>\n",
       "  </thead>\n",
       "  <tbody>\n",
       "    <tr>\n",
       "      <th>0</th>\n",
       "      <td>7/1/2013</td>\n",
       "      <td>0.827352</td>\n",
       "      <td>20575</td>\n",
       "      <td>10568</td>\n",
       "      <td>127.191304</td>\n",
       "      <td>82.222360</td>\n",
       "      <td>227.022942</td>\n",
       "      <td>13750.31522</td>\n",
       "      <td>1837.619565</td>\n",
       "      <td>-0.4</td>\n",
       "      <td>104.545217</td>\n",
       "      <td>1062</td>\n",
       "      <td>98.80018</td>\n",
       "      <td>99.64265</td>\n",
       "      <td>100.10440</td>\n",
       "      <td>101.14230</td>\n",
       "      <td>99.43615</td>\n",
       "      <td>100.62300</td>\n",
       "      <td>50.9</td>\n",
       "      <td>6906.64</td>\n",
       "    </tr>\n",
       "    <tr>\n",
       "      <th>1</th>\n",
       "      <td>8/1/2013</td>\n",
       "      <td>0.760221</td>\n",
       "      <td>20609</td>\n",
       "      <td>10821</td>\n",
       "      <td>137.055000</td>\n",
       "      <td>82.221429</td>\n",
       "      <td>232.234194</td>\n",
       "      <td>14308.26190</td>\n",
       "      <td>1896.392857</td>\n",
       "      <td>0.5</td>\n",
       "      <td>106.546364</td>\n",
       "      <td>1132</td>\n",
       "      <td>99.04874</td>\n",
       "      <td>99.91766</td>\n",
       "      <td>100.39620</td>\n",
       "      <td>101.19380</td>\n",
       "      <td>99.64082</td>\n",
       "      <td>100.65450</td>\n",
       "      <td>55.4</td>\n",
       "      <td>7186.25</td>\n",
       "    </tr>\n",
       "    <tr>\n",
       "      <th>2</th>\n",
       "      <td>9/1/2013</td>\n",
       "      <td>0.784715</td>\n",
       "      <td>20761</td>\n",
       "      <td>10774</td>\n",
       "      <td>134.185714</td>\n",
       "      <td>83.295918</td>\n",
       "      <td>234.335594</td>\n",
       "      <td>13801.39286</td>\n",
       "      <td>1846.880952</td>\n",
       "      <td>0.1</td>\n",
       "      <td>106.313810</td>\n",
       "      <td>2003</td>\n",
       "      <td>99.27196</td>\n",
       "      <td>100.18490</td>\n",
       "      <td>100.53630</td>\n",
       "      <td>101.20660</td>\n",
       "      <td>99.84383</td>\n",
       "      <td>100.66460</td>\n",
       "      <td>55.7</td>\n",
       "      <td>7159.27</td>\n",
       "    </tr>\n",
       "    <tr>\n",
       "      <th>3</th>\n",
       "      <td>10/1/2013</td>\n",
       "      <td>0.769293</td>\n",
       "      <td>20735</td>\n",
       "      <td>11291</td>\n",
       "      <td>132.572727</td>\n",
       "      <td>85.443634</td>\n",
       "      <td>229.393932</td>\n",
       "      <td>14117.65217</td>\n",
       "      <td>1884.836957</td>\n",
       "      <td>-0.1</td>\n",
       "      <td>100.500435</td>\n",
       "      <td>1504</td>\n",
       "      <td>99.40488</td>\n",
       "      <td>100.36330</td>\n",
       "      <td>100.57710</td>\n",
       "      <td>101.18350</td>\n",
       "      <td>100.02300</td>\n",
       "      <td>100.66660</td>\n",
       "      <td>56.2</td>\n",
       "      <td>7203.02</td>\n",
       "    </tr>\n",
       "    <tr>\n",
       "      <th>4</th>\n",
       "      <td>11/1/2013</td>\n",
       "      <td>0.750242</td>\n",
       "      <td>20854</td>\n",
       "      <td>11559</td>\n",
       "      <td>136.323810</td>\n",
       "      <td>88.363265</td>\n",
       "      <td>225.437049</td>\n",
       "      <td>13684.01190</td>\n",
       "      <td>1866.416667</td>\n",
       "      <td>2.1</td>\n",
       "      <td>93.812381</td>\n",
       "      <td>1821</td>\n",
       "      <td>99.36221</td>\n",
       "      <td>100.49830</td>\n",
       "      <td>100.54590</td>\n",
       "      <td>101.12830</td>\n",
       "      <td>100.17150</td>\n",
       "      <td>100.67440</td>\n",
       "      <td>56.4</td>\n",
       "      <td>7070.65</td>\n",
       "    </tr>\n",
       "    <tr>\n",
       "      <th>...</th>\n",
       "      <td>...</td>\n",
       "      <td>...</td>\n",
       "      <td>...</td>\n",
       "      <td>...</td>\n",
       "      <td>...</td>\n",
       "      <td>...</td>\n",
       "      <td>...</td>\n",
       "      <td>...</td>\n",
       "      <td>...</td>\n",
       "      <td>...</td>\n",
       "      <td>...</td>\n",
       "      <td>...</td>\n",
       "      <td>...</td>\n",
       "      <td>...</td>\n",
       "      <td>...</td>\n",
       "      <td>...</td>\n",
       "      <td>...</td>\n",
       "      <td>...</td>\n",
       "      <td>...</td>\n",
       "      <td>...</td>\n",
       "    </tr>\n",
       "    <tr>\n",
       "      <th>79</th>\n",
       "      <td>2/1/2020</td>\n",
       "      <td>0.893123</td>\n",
       "      <td>19753</td>\n",
       "      <td>9914</td>\n",
       "      <td>87.625000</td>\n",
       "      <td>71.050179</td>\n",
       "      <td>110.312331</td>\n",
       "      <td>12715.55000</td>\n",
       "      <td>2113.237500</td>\n",
       "      <td>-0.6</td>\n",
       "      <td>50.601500</td>\n",
       "      <td>535</td>\n",
       "      <td>94.50153</td>\n",
       "      <td>99.15099</td>\n",
       "      <td>98.99674</td>\n",
       "      <td>85.38329</td>\n",
       "      <td>99.33393</td>\n",
       "      <td>99.23477</td>\n",
       "      <td>50.9</td>\n",
       "      <td>5687.75</td>\n",
       "    </tr>\n",
       "    <tr>\n",
       "      <th>80</th>\n",
       "      <td>3/1/2020</td>\n",
       "      <td>0.829167</td>\n",
       "      <td>19945</td>\n",
       "      <td>9072</td>\n",
       "      <td>88.659091</td>\n",
       "      <td>70.204870</td>\n",
       "      <td>73.684533</td>\n",
       "      <td>11846.22727</td>\n",
       "      <td>1903.625000</td>\n",
       "      <td>-0.6</td>\n",
       "      <td>29.877273</td>\n",
       "      <td>626</td>\n",
       "      <td>96.55129</td>\n",
       "      <td>97.81904</td>\n",
       "      <td>98.56776</td>\n",
       "      <td>92.34856</td>\n",
       "      <td>96.87456</td>\n",
       "      <td>97.54372</td>\n",
       "      <td>50.1</td>\n",
       "      <td>5182.63</td>\n",
       "    </tr>\n",
       "    <tr>\n",
       "      <th>81</th>\n",
       "      <td>4/1/2020</td>\n",
       "      <td>0.789704</td>\n",
       "      <td>19824</td>\n",
       "      <td>7800</td>\n",
       "      <td>83.750000</td>\n",
       "      <td>64.620000</td>\n",
       "      <td>52.771306</td>\n",
       "      <td>11804.00950</td>\n",
       "      <td>1903.367000</td>\n",
       "      <td>-7.1</td>\n",
       "      <td>16.807273</td>\n",
       "      <td>635</td>\n",
       "      <td>98.21212</td>\n",
       "      <td>96.24888</td>\n",
       "      <td>98.10213</td>\n",
       "      <td>95.14948</td>\n",
       "      <td>90.34396</td>\n",
       "      <td>92.28025</td>\n",
       "      <td>49.1</td>\n",
       "      <td>5057.97</td>\n",
       "    </tr>\n",
       "    <tr>\n",
       "      <th>82</th>\n",
       "      <td>5/1/2020</td>\n",
       "      <td>0.762035</td>\n",
       "      <td>19441</td>\n",
       "      <td>8908</td>\n",
       "      <td>91.333333</td>\n",
       "      <td>54.148308</td>\n",
       "      <td>66.915249</td>\n",
       "      <td>12179.60526</td>\n",
       "      <td>1975.322632</td>\n",
       "      <td>1.0</td>\n",
       "      <td>28.794762</td>\n",
       "      <td>504</td>\n",
       "      <td>99.01438</td>\n",
       "      <td>95.99664</td>\n",
       "      <td>98.35104</td>\n",
       "      <td>97.71723</td>\n",
       "      <td>93.02601</td>\n",
       "      <td>93.95093</td>\n",
       "      <td>41.5</td>\n",
       "      <td>5239.83</td>\n",
       "    </tr>\n",
       "    <tr>\n",
       "      <th>83</th>\n",
       "      <td>6/1/2020</td>\n",
       "      <td>0.811477</td>\n",
       "      <td>18998</td>\n",
       "      <td>8979</td>\n",
       "      <td>103.340909</td>\n",
       "      <td>55.002760</td>\n",
       "      <td>82.415155</td>\n",
       "      <td>12727.15227</td>\n",
       "      <td>2025.714545</td>\n",
       "      <td>1.3</td>\n",
       "      <td>38.302273</td>\n",
       "      <td>1799</td>\n",
       "      <td>99.29423</td>\n",
       "      <td>96.85281</td>\n",
       "      <td>99.24643</td>\n",
       "      <td>98.10716</td>\n",
       "      <td>96.77950</td>\n",
       "      <td>95.88245</td>\n",
       "      <td>43.1</td>\n",
       "      <td>5754.60</td>\n",
       "    </tr>\n",
       "  </tbody>\n",
       "</table>\n",
       "<p>84 rows × 20 columns</p>\n",
       "</div>"
      ],
      "text/plain": [
       "         Date  StainlessSteelPrice  Steel_Inventory_M_USD  Steel_Orders_M_USD  \\\n",
       "0    7/1/2013             0.827352                  20575               10568   \n",
       "1    8/1/2013             0.760221                  20609               10821   \n",
       "2    9/1/2013             0.784715                  20761               10774   \n",
       "3   10/1/2013             0.769293                  20735               11291   \n",
       "4   11/1/2013             0.750242                  20854               11559   \n",
       "..        ...                  ...                    ...                 ...   \n",
       "79   2/1/2020             0.893123                  19753                9914   \n",
       "80   3/1/2020             0.829167                  19945                9072   \n",
       "81   4/1/2020             0.789704                  19824                7800   \n",
       "82   5/1/2020             0.762035                  19441                8908   \n",
       "83   6/1/2020             0.811477                  18998                8979   \n",
       "\n",
       "    IronOre_Global_USD  CoalAustralia_Global_USD  Energy_Index  \\\n",
       "0           127.191304                 82.222360    227.022942   \n",
       "1           137.055000                 82.221429    232.234194   \n",
       "2           134.185714                 83.295918    234.335594   \n",
       "3           132.572727                 85.443634    229.393932   \n",
       "4           136.323810                 88.363265    225.437049   \n",
       "..                 ...                       ...           ...   \n",
       "79           87.625000                 71.050179    110.312331   \n",
       "80           88.659091                 70.204870     73.684533   \n",
       "81           83.750000                 64.620000     52.771306   \n",
       "82           91.333333                 54.148308     66.915249   \n",
       "83          103.340909                 55.002760     82.415155   \n",
       "\n",
       "    Nickel_Global_USD  Zinc_Global_USD  Freight_Transport_Index  \\\n",
       "0         13750.31522      1837.619565                     -0.4   \n",
       "1         14308.26190      1896.392857                      0.5   \n",
       "2         13801.39286      1846.880952                      0.1   \n",
       "3         14117.65217      1884.836957                     -0.1   \n",
       "4         13684.01190      1866.416667                      2.1   \n",
       "..                ...              ...                      ...   \n",
       "79        12715.55000      2113.237500                     -0.6   \n",
       "80        11846.22727      1903.625000                     -0.6   \n",
       "81        11804.00950      1903.367000                     -7.1   \n",
       "82        12179.60526      1975.322632                      1.0   \n",
       "83        12727.15227      2025.714545                      1.3   \n",
       "\n",
       "    WTI_Crude_Global_USD  Baltic_Dry_Index  BCI_China  BCI_Europe     BCI_US  \\\n",
       "0             104.545217              1062   98.80018    99.64265  100.10440   \n",
       "1             106.546364              1132   99.04874    99.91766  100.39620   \n",
       "2             106.313810              2003   99.27196   100.18490  100.53630   \n",
       "3             100.500435              1504   99.40488   100.36330  100.57710   \n",
       "4              93.812381              1821   99.36221   100.49830  100.54590   \n",
       "..                   ...               ...        ...         ...        ...   \n",
       "79             50.601500               535   94.50153    99.15099   98.99674   \n",
       "80             29.877273               626   96.55129    97.81904   98.56776   \n",
       "81             16.807273               635   98.21212    96.24888   98.10213   \n",
       "82             28.794762               504   99.01438    95.99664   98.35104   \n",
       "83             38.302273              1799   99.29423    96.85281   99.24643   \n",
       "\n",
       "    CLI_China  CLI_Europe     CLI_US  PMI_US_Manufacturing  Copper_Global_USD   \n",
       "0   101.14230    99.43615  100.62300                  50.9             6906.64  \n",
       "1   101.19380    99.64082  100.65450                  55.4             7186.25  \n",
       "2   101.20660    99.84383  100.66460                  55.7             7159.27  \n",
       "3   101.18350   100.02300  100.66660                  56.2             7203.02  \n",
       "4   101.12830   100.17150  100.67440                  56.4             7070.65  \n",
       "..        ...         ...        ...                   ...                 ...  \n",
       "79   85.38329    99.33393   99.23477                  50.9             5687.75  \n",
       "80   92.34856    96.87456   97.54372                  50.1             5182.63  \n",
       "81   95.14948    90.34396   92.28025                  49.1             5057.97  \n",
       "82   97.71723    93.02601   93.95093                  41.5             5239.83  \n",
       "83   98.10716    96.77950   95.88245                  43.1             5754.60  \n",
       "\n",
       "[84 rows x 20 columns]"
      ]
     },
     "execution_count": 5,
     "metadata": {},
     "output_type": "execute_result"
    }
   ],
   "source": [
    "df"
   ]
  },
  {
   "cell_type": "code",
   "execution_count": 3,
   "id": "c2d2cbb3",
   "metadata": {},
   "outputs": [
    {
     "data": {
      "text/plain": [
       "0     0.827352\n",
       "1     0.760221\n",
       "2     0.784715\n",
       "3     0.769293\n",
       "4     0.750242\n",
       "        ...   \n",
       "79    0.893123\n",
       "80    0.829167\n",
       "81    0.789704\n",
       "82    0.762035\n",
       "83    0.811477\n",
       "Name: StainlessSteelPrice, Length: 84, dtype: float64"
      ]
     },
     "execution_count": 3,
     "metadata": {},
     "output_type": "execute_result"
    }
   ],
   "source": [
    "df1 = df.reset_index()['StainlessSteelPrice']\n",
    "df1"
   ]
  },
  {
   "cell_type": "code",
   "execution_count": 7,
   "id": "96774ecb",
   "metadata": {},
   "outputs": [
    {
     "data": {
      "text/plain": [
       "[<matplotlib.lines.Line2D at 0x7f76a7abcee0>]"
      ]
     },
     "execution_count": 7,
     "metadata": {},
     "output_type": "execute_result"
    },
    {
     "data": {
      "image/png": "[encoded data removed]",
      "text/plain": [
       "<Figure size 432x288 with 1 Axes>"
      ]
     },
     "metadata": {
      "needs_background": "light"
     },
     "output_type": "display_data"
    }
   ],
   "source": [
    "plt.plot(df1)"
   ]
  },
  {
   "cell_type": "code",
   "execution_count": 8,
   "id": "1d220adc",
   "metadata": {},
   "outputs": [
    {
     "data": {
      "text/plain": [
       "84"
      ]
     },
     "execution_count": 8,
     "metadata": {},
     "output_type": "execute_result"
    }
   ],
   "source": [
    "len(df1)"
   ]
  },
  {
   "cell_type": "code",
   "execution_count": 10,
   "id": "2fda9fc2",
   "metadata": {},
   "outputs": [
    {
     "data": {
      "text/plain": [
       "54"
      ]
     },
     "execution_count": 10,
     "metadata": {},
     "output_type": "execute_result"
    }
   ],
   "source": [
    "training_size = int(len(df1)*0.65)\n",
    "training_size"
   ]
  },
  {
   "cell_type": "code",
   "execution_count": 11,
   "id": "77bba76b",
   "metadata": {},
   "outputs": [
    {
     "data": {
      "text/plain": [
       "30"
      ]
     },
     "execution_count": 11,
     "metadata": {},
     "output_type": "execute_result"
    }
   ],
   "source": [
    "test_size = len(df1)-training_size\n",
    "test_size"
   ]
  },
  {
   "cell_type": "code",
   "execution_count": 16,
   "id": "9924f918",
   "metadata": {},
   "outputs": [
    {
     "data": {
      "text/plain": [
       "array([[0.82735248],\n",
       "       [0.76022081],\n",
       "       [0.7847148 ],\n",
       "       [0.76929266],\n",
       "       [0.75024178],\n",
       "       [0.77382858],\n",
       "       [0.74978819],\n",
       "       [0.77836451],\n",
       "       [0.78925072],\n",
       "       [0.82780608],\n",
       "       [0.91580299],\n",
       "       [1.05959178],\n",
       "       [1.07047799],\n",
       "       [1.07138518],\n",
       "       [1.05505585],\n",
       "       [1.06231333],\n",
       "       [0.93802902],\n",
       "       [0.87906201],\n",
       "       [0.92986436],\n",
       "       [0.86636143],\n",
       "       [0.84731055],\n",
       "       [0.81283753],\n",
       "       [0.7670247 ],\n",
       "       [0.7965082 ],\n",
       "       [0.76793188],\n",
       "       [0.71803672],\n",
       "       [0.65906971],\n",
       "       [0.61325688],\n",
       "       [0.62278232],\n",
       "       [0.60781378],\n",
       "       [0.54657881],\n",
       "       [0.51981686],\n",
       "       [0.49985879],\n",
       "       [0.52616715],\n",
       "       [0.52389919],\n",
       "       [0.5647225 ],\n",
       "       [0.54657881],\n",
       "       [0.61643203],\n",
       "       [0.66904875],\n",
       "       [0.63457573],\n",
       "       [0.67494545],\n",
       "       [0.71667594],\n",
       "       [0.77473577],\n",
       "       [0.81646627],\n",
       "       [0.80694083],\n",
       "       [0.83597074],\n",
       "       [0.7788181 ],\n",
       "       [0.72574779],\n",
       "       [0.71077924],\n",
       "       [0.66904875],\n",
       "       [0.70352177],\n",
       "       [0.80512646],\n",
       "       [0.79877616],\n",
       "       [0.86590783],\n",
       "       [0.81964141],\n",
       "       [0.85774317],\n",
       "       [0.90899911],\n",
       "       [0.94301854],\n",
       "       [0.95753349],\n",
       "       [0.99654244],\n",
       "       [1.05460226],\n",
       "       [1.00652147],\n",
       "       [0.95889427],\n",
       "       [0.91081348],\n",
       "       [0.88677308],\n",
       "       [0.84005307],\n",
       "       [0.78017888],\n",
       "       [0.75840644],\n",
       "       [0.83506355],\n",
       "       [0.88677308],\n",
       "       [0.89539134],\n",
       "       [0.84141385],\n",
       "       [0.82962044],\n",
       "       [0.85275366],\n",
       "       [0.96025505],\n",
       "       [1.07501392],\n",
       "       [1.07319955],\n",
       "       [1.00062477],\n",
       "       [0.88223716],\n",
       "       [0.89312338],\n",
       "       [0.82916685],\n",
       "       [0.78970432],\n",
       "       [0.76203518],\n",
       "       [0.81147675]])"
      ]
     },
     "execution_count": 16,
     "metadata": {},
     "output_type": "execute_result"
    }
   ],
   "source": [
    "df1=np.array(df1).reshape(-1,1)\n",
    "df1"
   ]
  },
  {
   "cell_type": "code",
   "execution_count": 41,
   "id": "93ef0919",
   "metadata": {},
   "outputs": [],
   "source": [
    "train_data,test_data = df1[:training_size,:],df1[training_size:len(df1),:1]"
   ]
  },
  {
   "cell_type": "code",
   "execution_count": 42,
   "id": "6cd767dc",
   "metadata": {},
   "outputs": [
    {
     "name": "stdout",
     "output_type": "stream",
     "text": [
      "54\n"
     ]
    },
    {
     "data": {
      "text/plain": [
       "array([[0.82735248],\n",
       "       [0.76022081],\n",
       "       [0.7847148 ],\n",
       "       [0.76929266],\n",
       "       [0.75024178],\n",
       "       [0.77382858],\n",
       "       [0.74978819],\n",
       "       [0.77836451],\n",
       "       [0.78925072],\n",
       "       [0.82780608],\n",
       "       [0.91580299],\n",
       "       [1.05959178],\n",
       "       [1.07047799],\n",
       "       [1.07138518],\n",
       "       [1.05505585],\n",
       "       [1.06231333],\n",
       "       [0.93802902],\n",
       "       [0.87906201],\n",
       "       [0.92986436],\n",
       "       [0.86636143],\n",
       "       [0.84731055],\n",
       "       [0.81283753],\n",
       "       [0.7670247 ],\n",
       "       [0.7965082 ],\n",
       "       [0.76793188],\n",
       "       [0.71803672],\n",
       "       [0.65906971],\n",
       "       [0.61325688],\n",
       "       [0.62278232],\n",
       "       [0.60781378],\n",
       "       [0.54657881],\n",
       "       [0.51981686],\n",
       "       [0.49985879],\n",
       "       [0.52616715],\n",
       "       [0.52389919],\n",
       "       [0.5647225 ],\n",
       "       [0.54657881],\n",
       "       [0.61643203],\n",
       "       [0.66904875],\n",
       "       [0.63457573],\n",
       "       [0.67494545],\n",
       "       [0.71667594],\n",
       "       [0.77473577],\n",
       "       [0.81646627],\n",
       "       [0.80694083],\n",
       "       [0.83597074],\n",
       "       [0.7788181 ],\n",
       "       [0.72574779],\n",
       "       [0.71077924],\n",
       "       [0.66904875],\n",
       "       [0.70352177],\n",
       "       [0.80512646],\n",
       "       [0.79877616],\n",
       "       [0.86590783]])"
      ]
     },
     "execution_count": 42,
     "metadata": {},
     "output_type": "execute_result"
    }
   ],
   "source": [
    "print(train_data.size)\n",
    "train_data"
   ]
  },
  {
   "cell_type": "code",
   "execution_count": 43,
   "id": "a991f226",
   "metadata": {},
   "outputs": [
    {
     "name": "stdout",
     "output_type": "stream",
     "text": [
      "30\n"
     ]
    },
    {
     "data": {
      "text/plain": [
       "array([[0.81964141],\n",
       "       [0.85774317],\n",
       "       [0.90899911],\n",
       "       [0.94301854],\n",
       "       [0.95753349],\n",
       "       [0.99654244],\n",
       "       [1.05460226],\n",
       "       [1.00652147],\n",
       "       [0.95889427],\n",
       "       [0.91081348],\n",
       "       [0.88677308],\n",
       "       [0.84005307],\n",
       "       [0.78017888],\n",
       "       [0.75840644],\n",
       "       [0.83506355],\n",
       "       [0.88677308],\n",
       "       [0.89539134],\n",
       "       [0.84141385],\n",
       "       [0.82962044],\n",
       "       [0.85275366],\n",
       "       [0.96025505],\n",
       "       [1.07501392],\n",
       "       [1.07319955],\n",
       "       [1.00062477],\n",
       "       [0.88223716],\n",
       "       [0.89312338],\n",
       "       [0.82916685],\n",
       "       [0.78970432],\n",
       "       [0.76203518],\n",
       "       [0.81147675]])"
      ]
     },
     "execution_count": 43,
     "metadata": {},
     "output_type": "execute_result"
    }
   ],
   "source": [
    "print(test_data.size)\n",
    "test_data"
   ]
  },
  {
   "cell_type": "code",
   "execution_count": 44,
   "id": "edbca353",
   "metadata": {},
   "outputs": [],
   "source": [
    "# convert an array of values into a dataset matrix\n",
    "def create_dataset(dataset, time_step=1):\n",
    "    dataX, dataY = [], []\n",
    "    for i in range(len(dataset)-time_step-1):\n",
    "        a = dataset[i:(i+time_step), 0]   ###i=0, 0,1   2 \n",
    "        dataX.append(a)\n",
    "        dataY.append(dataset[i + time_step, 0])\n",
    "    return np.array(dataX), np.array(dataY)"
   ]
  },
  {
   "cell_type": "code",
   "execution_count": 45,
   "id": "e75f6326",
   "metadata": {},
   "outputs": [],
   "source": [
    "time_step=2\n",
    "X_train,y_train = create_dataset(train_data,time_step)\n",
    "X_test,y_test = create_dataset(test_data,time_step)"
   ]
  },
  {
   "cell_type": "code",
   "execution_count": 46,
   "id": "be974663",
   "metadata": {},
   "outputs": [
    {
     "name": "stdout",
     "output_type": "stream",
     "text": [
      "(51, 2) (51,)\n",
      "(27, 2) (27,)\n"
     ]
    }
   ],
   "source": [
    "print(X_train.shape,y_train.shape)\n",
    "print(X_test.shape,y_test.shape)"
   ]
  },
  {
   "cell_type": "code",
   "execution_count": 47,
   "id": "bd3c4661",
   "metadata": {},
   "outputs": [],
   "source": [
    "X_train = X_train.reshape(X_train.shape[0],X_train.shape[1], 1)\n",
    "X_test = X_test.reshape(X_test.shape[0],X_test.shape[1], 1)"
   ]
  },
  {
   "cell_type": "code",
   "execution_count": 49,
   "id": "5e07b59f",
   "metadata": {},
   "outputs": [
    {
     "name": "stdout",
     "output_type": "stream",
     "text": [
      "(51, 2, 1) (51,)\n",
      "(27, 2, 1) (27,)\n"
     ]
    }
   ],
   "source": [
    "print(X_train.shape,y_train.shape)\n",
    "print(X_test.shape,y_test.shape)"
   ]
  },
  {
   "cell_type": "code",
   "execution_count": 50,
   "id": "c3ce736e",
   "metadata": {},
   "outputs": [],
   "source": [
    "### Create the Stacked LSTM model\n",
    "from tensorflow.keras.models import Sequential\n",
    "from tensorflow.keras.layers import Dense\n",
    "from tensorflow.keras.layers import LSTM"
   ]
  },
  {
   "cell_type": "code",
   "execution_count": 53,
   "id": "7dd32f00",
   "metadata": {},
   "outputs": [],
   "source": [
    "model = Sequential()\n",
    "model.add(LSTM(50,return_sequences=True,input_shape=(2,1)))\n",
    "model.add(LSTM(50,return_sequences=True))\n",
    "model.add(LSTM(50))\n",
    "model.add(Dense(1))\n",
    "model.compile(loss='mean_squared_error',optimizer='adam')"
   ]
  },
  {
   "cell_type": "code",
   "execution_count": 54,
   "id": "4df14bba",
   "metadata": {},
   "outputs": [
    {
     "name": "stdout",
     "output_type": "stream",
     "text": [
      "Model: \"sequential_2\"\n",
      "_________________________________________________________________\n",
      "Layer (type)                 Output Shape              Param #   \n",
      "=================================================================\n",
      "lstm_3 (LSTM)                (None, 2, 50)             10400     \n",
      "_________________________________________________________________\n",
      "lstm_4 (LSTM)                (None, 2, 50)             20200     \n",
      "_________________________________________________________________\n",
      "lstm_5 (LSTM)                (None, 50)                20200     \n",
      "_________________________________________________________________\n",
      "dense_1 (Dense)              (None, 1)                 51        \n",
      "=================================================================\n",
      "Total params: 50,851\n",
      "Trainable params: 50,851\n",
      "Non-trainable params: 0\n",
      "_________________________________________________________________\n"
     ]
    }
   ],
   "source": [
    "model.summary()"
   ]
  },
  {
   "cell_type": "code",
   "execution_count": 57,
   "id": "d48a36e4",
   "metadata": {},
   "outputs": [
    {
     "name": "stdout",
     "output_type": "stream",
     "text": [
      "Epoch 1/100\n",
      "1/1 [==============================] - 0s 207ms/step - loss: 0.0155 - val_loss: 0.0314\n",
      "Epoch 2/100\n",
      "1/1 [==============================] - 0s 123ms/step - loss: 0.0154 - val_loss: 0.0303\n",
      "Epoch 3/100\n",
      "1/1 [==============================] - 0s 120ms/step - loss: 0.0149 - val_loss: 0.0285\n",
      "Epoch 4/100\n",
      "1/1 [==============================] - 0s 117ms/step - loss: 0.0141 - val_loss: 0.0262\n",
      "Epoch 5/100\n",
      "1/1 [==============================] - 0s 127ms/step - loss: 0.0130 - val_loss: 0.0235\n",
      "Epoch 6/100\n",
      "1/1 [==============================] - 0s 112ms/step - loss: 0.0119 - val_loss: 0.0206\n",
      "Epoch 7/100\n",
      "1/1 [==============================] - 0s 121ms/step - loss: 0.0108 - val_loss: 0.0178\n",
      "Epoch 8/100\n",
      "1/1 [==============================] - 0s 136ms/step - loss: 0.0098 - val_loss: 0.0151\n",
      "Epoch 9/100\n",
      "1/1 [==============================] - 0s 119ms/step - loss: 0.0090 - val_loss: 0.0128\n",
      "Epoch 10/100\n",
      "1/1 [==============================] - 0s 119ms/step - loss: 0.0085 - val_loss: 0.0108\n",
      "Epoch 11/100\n",
      "1/1 [==============================] - 0s 123ms/step - loss: 0.0083 - val_loss: 0.0093\n",
      "Epoch 12/100\n",
      "1/1 [==============================] - 0s 118ms/step - loss: 0.0083 - val_loss: 0.0082\n",
      "Epoch 13/100\n",
      "1/1 [==============================] - 0s 122ms/step - loss: 0.0085 - val_loss: 0.0075\n",
      "Epoch 14/100\n",
      "1/1 [==============================] - 0s 130ms/step - loss: 0.0088 - val_loss: 0.0070\n",
      "Epoch 15/100\n",
      "1/1 [==============================] - 0s 161ms/step - loss: 0.0092 - val_loss: 0.0067\n",
      "Epoch 16/100\n",
      "1/1 [==============================] - 0s 136ms/step - loss: 0.0094 - val_loss: 0.0066\n",
      "Epoch 17/100\n",
      "1/1 [==============================] - 0s 125ms/step - loss: 0.0096 - val_loss: 0.0065\n",
      "Epoch 18/100\n",
      "1/1 [==============================] - 0s 143ms/step - loss: 0.0096 - val_loss: 0.0066\n",
      "Epoch 19/100\n",
      "1/1 [==============================] - 0s 196ms/step - loss: 0.0095 - val_loss: 0.0068\n",
      "Epoch 20/100\n",
      "1/1 [==============================] - 0s 133ms/step - loss: 0.0093 - val_loss: 0.0070\n",
      "Epoch 21/100\n",
      "1/1 [==============================] - 0s 125ms/step - loss: 0.0090 - val_loss: 0.0074\n",
      "Epoch 22/100\n",
      "1/1 [==============================] - 0s 163ms/step - loss: 0.0087 - val_loss: 0.0080\n",
      "Epoch 23/100\n",
      "1/1 [==============================] - 0s 172ms/step - loss: 0.0084 - val_loss: 0.0086\n",
      "Epoch 24/100\n",
      "1/1 [==============================] - 0s 150ms/step - loss: 0.0082 - val_loss: 0.0093\n",
      "Epoch 25/100\n",
      "1/1 [==============================] - 0s 123ms/step - loss: 0.0081 - val_loss: 0.0100\n",
      "Epoch 26/100\n",
      "1/1 [==============================] - 0s 121ms/step - loss: 0.0081 - val_loss: 0.0108\n",
      "Epoch 27/100\n",
      "1/1 [==============================] - 0s 120ms/step - loss: 0.0081 - val_loss: 0.0114\n",
      "Epoch 28/100\n",
      "1/1 [==============================] - 0s 133ms/step - loss: 0.0081 - val_loss: 0.0120\n",
      "Epoch 29/100\n",
      "1/1 [==============================] - 0s 124ms/step - loss: 0.0082 - val_loss: 0.0124\n",
      "Epoch 30/100\n",
      "1/1 [==============================] - 0s 121ms/step - loss: 0.0082 - val_loss: 0.0127\n",
      "Epoch 31/100\n",
      "1/1 [==============================] - 0s 116ms/step - loss: 0.0083 - val_loss: 0.0128\n",
      "Epoch 32/100\n",
      "1/1 [==============================] - 0s 120ms/step - loss: 0.0083 - val_loss: 0.0127\n",
      "Epoch 33/100\n",
      "1/1 [==============================] - 0s 118ms/step - loss: 0.0083 - val_loss: 0.0125\n",
      "Epoch 34/100\n",
      "1/1 [==============================] - 0s 117ms/step - loss: 0.0082 - val_loss: 0.0122\n",
      "Epoch 35/100\n",
      "1/1 [==============================] - 0s 116ms/step - loss: 0.0081 - val_loss: 0.0118\n",
      "Epoch 36/100\n",
      "1/1 [==============================] - 0s 114ms/step - loss: 0.0081 - val_loss: 0.0113\n",
      "Epoch 37/100\n",
      "1/1 [==============================] - 0s 120ms/step - loss: 0.0080 - val_loss: 0.0108\n",
      "Epoch 38/100\n",
      "1/1 [==============================] - 0s 120ms/step - loss: 0.0079 - val_loss: 0.0104\n",
      "Epoch 39/100\n",
      "1/1 [==============================] - 0s 119ms/step - loss: 0.0078 - val_loss: 0.0099\n",
      "Epoch 40/100\n",
      "1/1 [==============================] - 0s 119ms/step - loss: 0.0078 - val_loss: 0.0095\n",
      "Epoch 41/100\n",
      "1/1 [==============================] - 0s 113ms/step - loss: 0.0078 - val_loss: 0.0092\n",
      "Epoch 42/100\n",
      "1/1 [==============================] - 0s 119ms/step - loss: 0.0078 - val_loss: 0.0089\n",
      "Epoch 43/100\n",
      "1/1 [==============================] - 0s 117ms/step - loss: 0.0078 - val_loss: 0.0087\n",
      "Epoch 44/100\n",
      "1/1 [==============================] - 0s 114ms/step - loss: 0.0078 - val_loss: 0.0086\n",
      "Epoch 45/100\n",
      "1/1 [==============================] - 0s 124ms/step - loss: 0.0078 - val_loss: 0.0085\n",
      "Epoch 46/100\n",
      "1/1 [==============================] - 0s 123ms/step - loss: 0.0078 - val_loss: 0.0085\n",
      "Epoch 47/100\n",
      "1/1 [==============================] - 0s 119ms/step - loss: 0.0077 - val_loss: 0.0085\n",
      "Epoch 48/100\n",
      "1/1 [==============================] - 0s 153ms/step - loss: 0.0077 - val_loss: 0.0086\n",
      "Epoch 49/100\n",
      "1/1 [==============================] - 0s 172ms/step - loss: 0.0077 - val_loss: 0.0088\n",
      "Epoch 50/100\n",
      "1/1 [==============================] - 0s 156ms/step - loss: 0.0076 - val_loss: 0.0089\n",
      "Epoch 51/100\n",
      "1/1 [==============================] - 0s 136ms/step - loss: 0.0076 - val_loss: 0.0091\n",
      "Epoch 52/100\n",
      "1/1 [==============================] - 0s 113ms/step - loss: 0.0076 - val_loss: 0.0092\n",
      "Epoch 53/100\n",
      "1/1 [==============================] - 0s 143ms/step - loss: 0.0075 - val_loss: 0.0094\n",
      "Epoch 54/100\n",
      "1/1 [==============================] - 0s 141ms/step - loss: 0.0075 - val_loss: 0.0096\n",
      "Epoch 55/100\n",
      "1/1 [==============================] - 0s 153ms/step - loss: 0.0075 - val_loss: 0.0097\n",
      "Epoch 56/100\n",
      "1/1 [==============================] - 0s 149ms/step - loss: 0.0075 - val_loss: 0.0098\n",
      "Epoch 57/100\n",
      "1/1 [==============================] - 0s 118ms/step - loss: 0.0075 - val_loss: 0.0099\n",
      "Epoch 58/100\n",
      "1/1 [==============================] - 0s 118ms/step - loss: 0.0074 - val_loss: 0.0099\n",
      "Epoch 59/100\n",
      "1/1 [==============================] - 0s 125ms/step - loss: 0.0074 - val_loss: 0.0099\n",
      "Epoch 60/100\n",
      "1/1 [==============================] - 0s 122ms/step - loss: 0.0074 - val_loss: 0.0098\n",
      "Epoch 61/100\n",
      "1/1 [==============================] - 0s 128ms/step - loss: 0.0074 - val_loss: 0.0097\n",
      "Epoch 62/100\n",
      "1/1 [==============================] - 0s 152ms/step - loss: 0.0073 - val_loss: 0.0096\n",
      "Epoch 63/100\n",
      "1/1 [==============================] - 0s 182ms/step - loss: 0.0073 - val_loss: 0.0095\n",
      "Epoch 64/100\n",
      "1/1 [==============================] - 0s 135ms/step - loss: 0.0073 - val_loss: 0.0094\n",
      "Epoch 65/100\n",
      "1/1 [==============================] - 0s 179ms/step - loss: 0.0073 - val_loss: 0.0092\n",
      "Epoch 66/100\n",
      "1/1 [==============================] - 0s 170ms/step - loss: 0.0072 - val_loss: 0.0091\n",
      "Epoch 67/100\n",
      "1/1 [==============================] - 0s 144ms/step - loss: 0.0072 - val_loss: 0.0090\n",
      "Epoch 68/100\n",
      "1/1 [==============================] - 0s 213ms/step - loss: 0.0072 - val_loss: 0.0089\n",
      "Epoch 69/100\n",
      "1/1 [==============================] - 0s 146ms/step - loss: 0.0072 - val_loss: 0.0088\n",
      "Epoch 70/100\n",
      "1/1 [==============================] - 0s 168ms/step - loss: 0.0072 - val_loss: 0.0088\n",
      "Epoch 71/100\n",
      "1/1 [==============================] - 0s 186ms/step - loss: 0.0071 - val_loss: 0.0087\n",
      "Epoch 72/100\n",
      "1/1 [==============================] - 0s 125ms/step - loss: 0.0071 - val_loss: 0.0087\n",
      "Epoch 73/100\n",
      "1/1 [==============================] - 0s 134ms/step - loss: 0.0071 - val_loss: 0.0087\n",
      "Epoch 74/100\n",
      "1/1 [==============================] - 0s 199ms/step - loss: 0.0071 - val_loss: 0.0087\n",
      "Epoch 75/100\n",
      "1/1 [==============================] - 0s 146ms/step - loss: 0.0070 - val_loss: 0.0087\n",
      "Epoch 76/100\n",
      "1/1 [==============================] - 0s 120ms/step - loss: 0.0070 - val_loss: 0.0088\n",
      "Epoch 77/100\n",
      "1/1 [==============================] - 0s 169ms/step - loss: 0.0070 - val_loss: 0.0088\n",
      "Epoch 78/100\n",
      "1/1 [==============================] - 0s 177ms/step - loss: 0.0070 - val_loss: 0.0088\n",
      "Epoch 79/100\n",
      "1/1 [==============================] - 0s 133ms/step - loss: 0.0070 - val_loss: 0.0088\n",
      "Epoch 80/100\n",
      "1/1 [==============================] - 0s 204ms/step - loss: 0.0069 - val_loss: 0.0089\n",
      "Epoch 81/100\n",
      "1/1 [==============================] - 0s 137ms/step - loss: 0.0069 - val_loss: 0.0089\n",
      "Epoch 82/100\n",
      "1/1 [==============================] - 0s 140ms/step - loss: 0.0069 - val_loss: 0.0089\n",
      "Epoch 83/100\n"
     ]
    },
    {
     "name": "stdout",
     "output_type": "stream",
     "text": [
      "1/1 [==============================] - 0s 196ms/step - loss: 0.0069 - val_loss: 0.0089\n",
      "Epoch 84/100\n",
      "1/1 [==============================] - 0s 145ms/step - loss: 0.0068 - val_loss: 0.0089\n",
      "Epoch 85/100\n",
      "1/1 [==============================] - 0s 125ms/step - loss: 0.0068 - val_loss: 0.0088\n",
      "Epoch 86/100\n",
      "1/1 [==============================] - 0s 138ms/step - loss: 0.0068 - val_loss: 0.0088\n",
      "Epoch 87/100\n",
      "1/1 [==============================] - 0s 207ms/step - loss: 0.0068 - val_loss: 0.0087\n",
      "Epoch 88/100\n",
      "1/1 [==============================] - 0s 120ms/step - loss: 0.0068 - val_loss: 0.0087\n",
      "Epoch 89/100\n",
      "1/1 [==============================] - 0s 129ms/step - loss: 0.0067 - val_loss: 0.0086\n",
      "Epoch 90/100\n",
      "1/1 [==============================] - 0s 175ms/step - loss: 0.0067 - val_loss: 0.0086\n",
      "Epoch 91/100\n",
      "1/1 [==============================] - 0s 164ms/step - loss: 0.0067 - val_loss: 0.0085\n",
      "Epoch 92/100\n",
      "1/1 [==============================] - 0s 130ms/step - loss: 0.0067 - val_loss: 0.0085\n",
      "Epoch 93/100\n",
      "1/1 [==============================] - 0s 125ms/step - loss: 0.0066 - val_loss: 0.0085\n",
      "Epoch 94/100\n",
      "1/1 [==============================] - 0s 127ms/step - loss: 0.0066 - val_loss: 0.0084\n",
      "Epoch 95/100\n",
      "1/1 [==============================] - 0s 135ms/step - loss: 0.0066 - val_loss: 0.0084\n",
      "Epoch 96/100\n",
      "1/1 [==============================] - 0s 194ms/step - loss: 0.0066 - val_loss: 0.0084\n",
      "Epoch 97/100\n",
      "1/1 [==============================] - 0s 124ms/step - loss: 0.0066 - val_loss: 0.0084\n",
      "Epoch 98/100\n",
      "1/1 [==============================] - 0s 123ms/step - loss: 0.0065 - val_loss: 0.0083\n",
      "Epoch 99/100\n",
      "1/1 [==============================] - 0s 130ms/step - loss: 0.0065 - val_loss: 0.0083\n",
      "Epoch 100/100\n",
      "1/1 [==============================] - 0s 146ms/step - loss: 0.0065 - val_loss: 0.0083\n"
     ]
    },
    {
     "data": {
      "text/plain": [
       "<tensorflow.python.keras.callbacks.History at 0x7f762de0e040>"
      ]
     },
     "execution_count": 57,
     "metadata": {},
     "output_type": "execute_result"
    }
   ],
   "source": [
    "model.fit(X_train,y_train,validation_data=(X_test,y_test),epochs=100,batch_size=64,verbose=1)"
   ]
  },
  {
   "cell_type": "code",
   "execution_count": 58,
   "id": "d45d152b",
   "metadata": {},
   "outputs": [],
   "source": [
    "### Lets Do the prediction and check performance metrics\n",
    "train_predict=model.predict(X_train)\n",
    "test_predict=model.predict(X_test)"
   ]
  },
  {
   "cell_type": "code",
   "execution_count": 59,
   "id": "84b0b63a",
   "metadata": {},
   "outputs": [
    {
     "data": {
      "text/plain": [
       "0.08044896348848876"
      ]
     },
     "execution_count": 59,
     "metadata": {},
     "output_type": "execute_result"
    }
   ],
   "source": [
    "from sklearn.metrics import mean_squared_error\n",
    "np.sqrt(mean_squared_error(y_train,train_predict))"
   ]
  },
  {
   "cell_type": "code",
   "execution_count": 60,
   "id": "451f0211",
   "metadata": {},
   "outputs": [
    {
     "data": {
      "text/plain": [
       "0.09130017208146284"
      ]
     },
     "execution_count": 60,
     "metadata": {},
     "output_type": "execute_result"
    }
   ],
   "source": [
    "np.sqrt(mean_squared_error(y_test,test_predict))"
   ]
  },
  {
   "cell_type": "code",
   "execution_count": 71,
   "id": "89d1b3d6",
   "metadata": {},
   "outputs": [
    {
     "data": {
      "image/png": "[encoded data removed]",
      "text/plain": [
       "<Figure size 432x288 with 1 Axes>"
      ]
     },
     "metadata": {
      "needs_background": "light"
     },
     "output_type": "display_data"
    }
   ],
   "source": [
    "### Plotting \n",
    "# shift train predictions for plotting\n",
    "look_back=2\n",
    "trainPredictPlot = np.empty_like(df1)\n",
    "trainPredictPlot[:, :] = np.nan\n",
    "trainPredictPlot[look_back:len(train_predict)+look_back, :] = train_predict\n",
    "# shift test predictions for plotting\n",
    "testPredictPlot = np.empty_like(df1)\n",
    "testPredictPlot[:, :] = np.nan\n",
    "testPredictPlot[len(train_predict)+(look_back*2)+1:len(df1)-1, :] = test_predict\n",
    "# plot baseline and predictions\n",
    "plt.plot(df1,c='black')\n",
    "plt.plot(trainPredictPlot,c='green')\n",
    "plt.plot(testPredictPlot,c='red')\n",
    "plt.show()"
   ]
  },
  {
   "cell_type": "code",
   "execution_count": 72,
   "id": "6671a911",
   "metadata": {},
   "outputs": [
    {
     "data": {
      "text/plain": [
       "30"
      ]
     },
     "execution_count": 72,
     "metadata": {},
     "output_type": "execute_result"
    }
   ],
   "source": [
    "len(test_data)"
   ]
  },
  {
   "cell_type": "code",
   "execution_count": 74,
   "id": "f780c994",
   "metadata": {},
   "outputs": [
    {
     "name": "stdout",
     "output_type": "stream",
     "text": [
      "(1, 2)\n"
     ]
    },
    {
     "data": {
      "text/plain": [
       "array([[0.76203518, 0.81147675]])"
      ]
     },
     "execution_count": 74,
     "metadata": {},
     "output_type": "execute_result"
    }
   ],
   "source": [
    "x_input=test_data[28:].reshape(1,-1)\n",
    "print(x_input.shape)\n",
    "x_input"
   ]
  },
  {
   "cell_type": "code",
   "execution_count": 75,
   "id": "8c19f91a",
   "metadata": {},
   "outputs": [],
   "source": [
    "temp_input=list(x_input)\n",
    "temp_input=temp_input[0].tolist()"
   ]
  },
  {
   "cell_type": "code",
   "execution_count": 76,
   "id": "cabca024",
   "metadata": {},
   "outputs": [
    {
     "data": {
      "text/plain": [
       "[0.762035182, 0.81147675]"
      ]
     },
     "execution_count": 76,
     "metadata": {},
     "output_type": "execute_result"
    }
   ],
   "source": [
    "temp_input"
   ]
  },
  {
   "cell_type": "code",
   "execution_count": 86,
   "id": "f182c508",
   "metadata": {},
   "outputs": [
    {
     "name": "stdout",
     "output_type": "stream",
     "text": [
      "0 Month input [0.7721554 0.7721554]\n",
      "0 Month output [[0.7721554]]\n",
      "1 Month input [0.7721554 0.7721554]\n",
      "1 Month output [[0.7721554]]\n",
      "2 Month input [0.7721554 0.7721554]\n",
      "2 Month output [[0.7721554]]\n",
      "3 Month input [0.7721554 0.7721554]\n",
      "3 Month output [[0.7721554]]\n",
      "4 Month input [0.7721554 0.7721554]\n",
      "4 Month output [[0.7721554]]\n",
      "5 Month input [0.7721554 0.7721554]\n",
      "5 Month output [[0.7721554]]\n",
      "6 Month input [0.7721554 0.7721554]\n",
      "6 Month output [[0.7721554]]\n",
      "7 Month input [0.7721554 0.7721554]\n",
      "7 Month output [[0.7721554]]\n",
      "8 Month input [0.7721554 0.7721554]\n",
      "8 Month output [[0.7721554]]\n",
      "9 Month input [0.7721554 0.7721554]\n",
      "9 Month output [[0.7721554]]\n",
      "10 Month input [0.7721554 0.7721554]\n",
      "10 Month output [[0.7721554]]\n",
      "11 Month input [0.7721554 0.7721554]\n",
      "11 Month output [[0.7721554]]\n",
      "12 Month input [0.7721554 0.7721554]\n",
      "12 Month output [[0.7721554]]\n",
      "13 Month input [0.7721554 0.7721554]\n",
      "13 Month output [[0.7721554]]\n",
      "14 Month input [0.7721554 0.7721554]\n",
      "14 Month output [[0.7721554]]\n",
      "15 Month input [0.7721554 0.7721554]\n",
      "15 Month output [[0.7721554]]\n",
      "16 Month input [0.7721554 0.7721554]\n",
      "16 Month output [[0.7721554]]\n",
      "17 Month input [0.7721554 0.7721554]\n",
      "17 Month output [[0.7721554]]\n",
      "18 Month input [0.7721554 0.7721554]\n",
      "18 Month output [[0.7721554]]\n",
      "19 Month input [0.7721554 0.7721554]\n",
      "19 Month output [[0.7721554]]\n",
      "20 Month input [0.7721554 0.7721554]\n",
      "20 Month output [[0.7721554]]\n",
      "21 Month input [0.7721554 0.7721554]\n",
      "21 Month output [[0.7721554]]\n",
      "22 Month input [0.7721554 0.7721554]\n",
      "22 Month output [[0.7721554]]\n",
      "23 Month input [0.7721554 0.7721554]\n",
      "23 Month output [[0.7721554]]\n",
      "24 Month input [0.7721554 0.7721554]\n",
      "24 Month output [[0.7721554]]\n",
      "25 Month input [0.7721554 0.7721554]\n",
      "25 Month output [[0.7721554]]\n",
      "26 Month input [0.7721554 0.7721554]\n",
      "26 Month output [[0.7721554]]\n",
      "27 Month input [0.7721554 0.7721554]\n",
      "27 Month output [[0.7721554]]\n",
      "28 Month input [0.7721554 0.7721554]\n",
      "28 Month output [[0.7721554]]\n",
      "29 Month input [0.7721554 0.7721554]\n",
      "29 Month output [[0.7721554]]\n",
      "[[0.7721554040908813], [0.7721554040908813], [0.7721554040908813], [0.7721554040908813], [0.7721554040908813], [0.7721554040908813], [0.7721554040908813], [0.7721554040908813], [0.7721554040908813], [0.7721554040908813], [0.7721554040908813], [0.7721554040908813], [0.7721554040908813], [0.7721554040908813], [0.7721554040908813], [0.7721554040908813], [0.7721554040908813], [0.7721554040908813], [0.7721554040908813], [0.7721554040908813], [0.7721554040908813], [0.7721554040908813], [0.7721554040908813], [0.7721554040908813], [0.7721554040908813], [0.7721554040908813], [0.7721554040908813], [0.7721554040908813], [0.7721554040908813], [0.7721554040908813]]\n"
     ]
    }
   ],
   "source": [
    "# demonstrate prediction for next 10 days\n",
    "from numpy import array\n",
    "\n",
    "lst_output=[]\n",
    "n_steps=2\n",
    "i=0\n",
    "while(i<30):\n",
    "    \n",
    "    if(len(temp_input)>2):\n",
    "        #print(temp_input)\n",
    "        x_input=np.array(temp_input[1:])\n",
    "        print(\"{} Month input {}\".format(i,x_input))\n",
    "        x_input=x_input.reshape(1,-1)\n",
    "        x_input = x_input.reshape((1, n_steps, 1))\n",
    "        #print(x_input)\n",
    "        yhat = model.predict(x_input, verbose=0)\n",
    "        print(\"{} Month output {}\".format(i,yhat))\n",
    "        temp_input.extend(yhat[0].tolist())\n",
    "        temp_input=temp_input[1:]\n",
    "        #print(temp_input)\n",
    "        lst_output.extend(yhat.tolist())\n",
    "        i=i+1\n",
    "    else:\n",
    "        x_input = x_input.reshape((1, n_steps,1))\n",
    "        yhat = model.predict(x_input, verbose=0)\n",
    "        print(yhat[0])\n",
    "        temp_input.extend(yhat[0].tolist())\n",
    "        print(len(temp_input))\n",
    "        lst_output.extend(yhat.tolist())\n",
    "        i=i+1\n",
    "    \n",
    "\n",
    "print(lst_output)"
   ]
  },
  {
   "cell_type": "code",
   "execution_count": 83,
   "id": "1d9b3871",
   "metadata": {},
   "outputs": [],
   "source": [
    "day_new=np.arange(1,3)\n",
    "day_pred=np.arange(3,33)"
   ]
  },
  {
   "cell_type": "code",
   "execution_count": 84,
   "id": "6d9e1ef9",
   "metadata": {},
   "outputs": [
    {
     "data": {
      "text/plain": [
       "84"
      ]
     },
     "execution_count": 84,
     "metadata": {},
     "output_type": "execute_result"
    }
   ],
   "source": [
    "len(df1)"
   ]
  },
  {
   "cell_type": "code",
   "execution_count": 87,
   "id": "b9a04f18",
   "metadata": {},
   "outputs": [
    {
     "data": {
      "text/plain": [
       "[<matplotlib.lines.Line2D at 0x7f762cd3e550>]"
      ]
     },
     "execution_count": 87,
     "metadata": {},
     "output_type": "execute_result"
    },
    {
     "data": {
      "image/png": "[encoded data removed]",
      "text/plain": [
       "<Figure size 432x288 with 1 Axes>"
      ]
     },
     "metadata": {
      "needs_background": "light"
     },
     "output_type": "display_data"
    }
   ],
   "source": [
    "plt.plot(day_new,df1[82:])\n",
    "plt.plot(day_pred,lst_output)"
   ]
  },
  {
   "cell_type": "code",
   "execution_count": 88,
   "id": "563a4b6a",
   "metadata": {},
   "outputs": [
    {
     "data": {
      "text/plain": [
       "[<matplotlib.lines.Line2D at 0x7f762cdf1340>]"
      ]
     },
     "execution_count": 88,
     "metadata": {},
     "output_type": "execute_result"
    },
    {
     "data": {
      "image/png": "[encoded data removed]",
      "text/plain": [
       "<Figure size 432x288 with 1 Axes>"
      ]
     },
     "metadata": {
      "needs_background": "light"
     },
     "output_type": "display_data"
    }
   ],
   "source": [
    "df3=df1.tolist()\n",
    "df3.extend(lst_output)\n",
    "plt.plot(df3[83:])"
   ]
  },
  {
   "cell_type": "code",
   "execution_count": 93,
   "id": "7da1c749",
   "metadata": {},
   "outputs": [
    {
     "data": {
      "text/plain": [
       "[<matplotlib.lines.Line2D at 0x7f762cc66490>]"
      ]
     },
     "execution_count": 93,
     "metadata": {},
     "output_type": "execute_result"
    },
    {
     "data": {
      "image/png": "[encoded data removed]",
      "text/plain": [
       "<Figure size 432x288 with 1 Axes>"
      ]
     },
     "metadata": {
      "needs_background": "light"
     },
     "output_type": "display_data"
    }
   ],
   "source": [
    "plt.plot(df3)"
   ]
  },
  {
   "cell_type": "code",
   "execution_count": null,
   "id": "289202d6",
   "metadata": {},
   "outputs": [],
   "source": []
  }
 ],
 "metadata": {
  "kernelspec": {
   "display_name": "Python 3",
   "language": "python",
   "name": "python3"
  },
  "language_info": {
   "codemirror_mode": {
    "name": "ipython",
    "version": 3
   },
   "file_extension": ".py",
   "mimetype": "text/x-python",
   "name": "python",
   "nbconvert_exporter": "python",
   "pygments_lexer": "ipython3",
   "version": "3.8.8"
  }
 },
 "nbformat": 4,
 "nbformat_minor": 5
}
